{
 "cells": [
  {
   "cell_type": "markdown",
   "metadata": {},
   "source": [
    "Leung Wai Liu <br>\n",
    "JPMC-SMM4H <br>\n",
    "July 14, 2022 <br>\n",
    "Task 1a Test Majority Ensembling - Roberta Only"
   ]
  },
  {
   "cell_type": "code",
   "execution_count": 11,
   "metadata": {},
   "outputs": [],
   "source": [
    "import pandas as pd\n",
    "import numpy as np\n",
    "from collections import Counter\n",
    "from labels_to_ids import task7_labels_to_ids\n",
    "from sklearn.metrics import accuracy_score, classification_report, f1_score, precision_score, recall_score, confusion_matrix\n",
    "from training_code import calculate_overall_performance_metrics\n",
    "import os"
   ]
  },
  {
   "cell_type": "code",
   "execution_count": 12,
   "metadata": {},
   "outputs": [],
   "source": [
    "# Loading up all the predictions data\n",
    "\n",
    "n_rnds = 3\n",
    "original_df = pd.read_csv('../Datasets/Subtask_1a/test.tsv', sep='\\t')\n",
    "models = ['roberta-large']\n",
    "n_models = len(models)\n",
    "\n",
    "epoch_string = '../2nd_try_15_epochs_large_model/saved_test_result_1a'\n",
    "n_rows = len(original_df)\n",
    "\n",
    "labels_to_ids = task7_labels_to_ids\n",
    "ids_to_labels = dict((v,k) for k,v in labels_to_ids.items())\n",
    "\n"
   ]
  },
  {
   "cell_type": "code",
   "execution_count": 13,
   "metadata": {},
   "outputs": [],
   "source": [
    "# Retrieving all the predictions from the \n",
    "list_of_df = []\n",
    "\n",
    "for model in models: \n",
    "    specific_model_row = []\n",
    "    for rnd in range(n_rnds):\n",
    "        to_read_string = epoch_string + '/' + model + '/' + str(rnd) + '/unformatted_test_result.tsv'\n",
    "            \n",
    "        particular_model_df = pd.read_csv(to_read_string, sep='\\t')\n",
    "        specific_model_row.append(particular_model_df)\n",
    "    \n",
    "    list_of_df.append(specific_model_row)"
   ]
  },
  {
   "cell_type": "code",
   "execution_count": 14,
   "metadata": {},
   "outputs": [],
   "source": [
    "# TAKING THE MAJORITY OF DATA\n",
    "\n",
    "majority_original_tweet_id_list = []\n",
    "majority_original_sentence_list = []\n",
    "majority_original_numbered_label_list = []\n",
    "\n",
    "majority_predicted_number_results = []\n",
    "majority_predicted_results = []\n",
    "\n",
    "\n",
    "for index, row in original_df.iterrows(): \n",
    "    # getting the original values in the tweet\n",
    "    original_tweet_id = row['tweet_id']\n",
    "    original_sentence = row['tweet']\n",
    "    \n",
    "    # transferring the labels over to final list\n",
    "    majority_original_tweet_id_list.append(original_tweet_id)\n",
    "    majority_original_sentence_list.append(original_sentence)\n",
    "    \n",
    "    specific_row_results = []\n",
    "    # go through every models' row of data \n",
    "    \n",
    "    for model_num in range(n_models):\n",
    "        for rnd_num in range(n_rnds):\n",
    "            # print(list_of_df[model_num][rnd_num])\n",
    "            row = list_of_df[model_num][rnd_num].loc[(list_of_df[model_num][rnd_num]['tweet_id'] == original_tweet_id)]\n",
    "\n",
    "            prediction = labels_to_ids[row['class'].values[0]]\n",
    "            specific_row_results.append(prediction)\n",
    "\n",
    "    specific_row_results = Counter(specific_row_results)\n",
    "    specific_row_results = specific_row_results.most_common(1)[0][0]\n",
    "    majority_predicted_results.append(ids_to_labels[specific_row_results])\n",
    "    "
   ]
  },
  {
   "cell_type": "code",
   "execution_count": 15,
   "metadata": {},
   "outputs": [
    {
     "name": "stdout",
     "output_type": "stream",
     "text": [
      "                              id  \\\n",
      "0      SMM4H2022e4OIETplIkjV0I8V   \n",
      "1      SMM4H2022ZMATVYdmmKWGkRoh   \n",
      "2      SMM4H2022V61Tilw8DJvqNqLT   \n",
      "3      SMM4H2022mKSqbziPej1yvp4X   \n",
      "4      SMM4H2022RV9KzDljn78QqAqi   \n",
      "...                          ...   \n",
      "10964  SMM4H2022ecknKTI3uRThqNXt   \n",
      "10965  SMM4H2022pLCtFgOQqJaU8i3O   \n",
      "10966  SMM4H2022kSh6JvmRUcyR1lzz   \n",
      "10967  SMM4H2022i1YwnECBKPiDqTvR   \n",
      "10968  SMM4H2022NVFJ38j8nXAx5uab   \n",
      "\n",
      "                                                    text  class  \n",
      "0      oh, that spiriva is too much $...how bout not ...  noADE  \n",
      "1      @USER___________ @USER_____ I found NSAIDS did...  noADE  \n",
      "2      Having delicious Tysabri 4 lunch. Then off 2 @...  noADE  \n",
      "3      the glorification of adderall during finals is...  noADE  \n",
      "4      holy shit the 10mg saphris tablet tastes infin...  noADE  \n",
      "...                                                  ...    ...  \n",
      "10964  you know it's finals week when you find addera...  noADE  \n",
      "10965  Zostavax has to be reconstituted. Everyone is ...  noADE  \n",
      "10966  Janssen Files EU Marketing Application for VEL...  noADE  \n",
      "10967  It's probably a good thing I'm not on adderall...  noADE  \n",
      "10968  IVE SLAMMED MY WHOLE LIFE WITH ADDERALL I'VE F...  noADE  \n",
      "\n",
      "[10969 rows x 3 columns]\n",
      "                              id  class\n",
      "0      SMM4H2022e4OIETplIkjV0I8V  noADE\n",
      "1      SMM4H2022ZMATVYdmmKWGkRoh  noADE\n",
      "2      SMM4H2022V61Tilw8DJvqNqLT  noADE\n",
      "3      SMM4H2022mKSqbziPej1yvp4X  noADE\n",
      "4      SMM4H2022RV9KzDljn78QqAqi  noADE\n",
      "...                          ...    ...\n",
      "10964  SMM4H2022ecknKTI3uRThqNXt  noADE\n",
      "10965  SMM4H2022pLCtFgOQqJaU8i3O  noADE\n",
      "10966  SMM4H2022kSh6JvmRUcyR1lzz  noADE\n",
      "10967  SMM4H2022i1YwnECBKPiDqTvR  noADE\n",
      "10968  SMM4H2022NVFJ38j8nXAx5uab  noADE\n",
      "\n",
      "[10969 rows x 2 columns]\n"
     ]
    }
   ],
   "source": [
    "# Saving it as a dataframe\n",
    "unformatted_majority_prediction_data = pd.DataFrame(zip(majority_original_tweet_id_list, majority_original_sentence_list, majority_predicted_results), columns=['id', 'text', 'class'])\n",
    "print(unformatted_majority_prediction_data)\n",
    "\n",
    "formatted_majority_prediction_data = unformatted_majority_prediction_data.drop(columns = ['text'])\n",
    "print(formatted_majority_prediction_data)"
   ]
  },
  {
   "cell_type": "code",
   "execution_count": 16,
   "metadata": {},
   "outputs": [],
   "source": [
    "# Saving it as a tsv file\n",
    "os.makedirs('../2nd_try_15_epochs_large_model/final_test_result', exist_ok=True)\n",
    "unformatted_majority_prediction_data.to_csv('../2nd_try_15_epochs_large_model/final_test_result/unformatted_majority_data.tsv', sep='\\t', index=False)\n",
    "formatted_majority_prediction_data.to_csv('../2nd_try_15_epochs_large_model/final_test_result/formatted_majority_data.tsv', sep='\\t', index=False, header=False)"
   ]
  }
 ],
 "metadata": {
  "kernelspec": {
   "display_name": "Python 3.6.9 64-bit",
   "language": "python",
   "name": "python3"
  },
  "language_info": {
   "codemirror_mode": {
    "name": "ipython",
    "version": 3
   },
   "file_extension": ".py",
   "mimetype": "text/x-python",
   "name": "python",
   "nbconvert_exporter": "python",
   "pygments_lexer": "ipython3",
   "version": "3.6.9"
  },
  "orig_nbformat": 4,
  "vscode": {
   "interpreter": {
    "hash": "31f2aee4e71d21fbe5cf8b01ff0e069b9275f58929596ceb00d14d90e3e16cd6"
   }
  }
 },
 "nbformat": 4,
 "nbformat_minor": 2
}
